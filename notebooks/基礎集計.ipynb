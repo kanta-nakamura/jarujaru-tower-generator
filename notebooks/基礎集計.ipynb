{
 "cells": [
  {
   "cell_type": "markdown",
   "id": "aa0b6884-8dff-41f9-a941-d7c6de268d2c",
   "metadata": {},
   "source": [
    "## 基礎集計\n",
    "\n",
    "### このnotebookの目的\n",
    "ジャルジャルタワーの動画タイトルを集計し、今後の分析方針を立てる。"
   ]
  },
  {
   "cell_type": "code",
   "execution_count": 1,
   "id": "c3250935-df05-4896-97e4-9e67fbafd0e0",
   "metadata": {},
   "outputs": [],
   "source": [
    "# library\n",
    "import pandas as pd"
   ]
  },
  {
   "cell_type": "code",
   "execution_count": 2,
   "id": "20e9d5f1-11a2-4832-a458-22e39e3f1702",
   "metadata": {},
   "outputs": [],
   "source": [
    "# option\n",
    "pd.options.display.float_format = '{:,.2f}'.format"
   ]
  },
  {
   "cell_type": "code",
   "execution_count": 3,
   "id": "d03bfd4a-e50f-4875-bc99-84adfff6e682",
   "metadata": {
    "tags": []
   },
   "outputs": [],
   "source": [
    "# data path\n",
    "jarujaru_tower_path = '../data/raw/jarujaru_tower.csv'"
   ]
  },
  {
   "cell_type": "code",
   "execution_count": 4,
   "id": "b88ff7c6-2999-4376-8b61-88daaba0b4ca",
   "metadata": {},
   "outputs": [],
   "source": [
    "df_jarujaru_tower = pd.read_csv(jarujaru_tower_path)\n",
    "df_jarujaru_tower.drop_duplicates(inplace=True)\n",
    "df_jarujaru_tower = df_jarujaru_tower[df_jarujaru_tower['title'].str.contains('ジャルジャルのネタのタネ')]"
   ]
  },
  {
   "cell_type": "code",
   "execution_count": 5,
   "id": "285f9a56-ade9-46c1-a531-2e6fe35f6129",
   "metadata": {},
   "outputs": [
    {
     "data": {
      "text/html": [
       "<div>\n",
       "<style scoped>\n",
       "    .dataframe tbody tr th:only-of-type {\n",
       "        vertical-align: middle;\n",
       "    }\n",
       "\n",
       "    .dataframe tbody tr th {\n",
       "        vertical-align: top;\n",
       "    }\n",
       "\n",
       "    .dataframe thead th {\n",
       "        text-align: right;\n",
       "    }\n",
       "</style>\n",
       "<table border=\"1\" class=\"dataframe\">\n",
       "  <thead>\n",
       "    <tr style=\"text-align: right;\">\n",
       "      <th></th>\n",
       "      <th>comment_count</th>\n",
       "      <th>view_count</th>\n",
       "      <th>like_count</th>\n",
       "    </tr>\n",
       "  </thead>\n",
       "  <tbody>\n",
       "    <tr>\n",
       "      <th>count</th>\n",
       "      <td>588.00</td>\n",
       "      <td>588.00</td>\n",
       "      <td>588.00</td>\n",
       "    </tr>\n",
       "    <tr>\n",
       "      <th>mean</th>\n",
       "      <td>720.52</td>\n",
       "      <td>253,392.42</td>\n",
       "      <td>4,469.08</td>\n",
       "    </tr>\n",
       "    <tr>\n",
       "      <th>std</th>\n",
       "      <td>441.75</td>\n",
       "      <td>403,057.13</td>\n",
       "      <td>5,031.37</td>\n",
       "    </tr>\n",
       "    <tr>\n",
       "      <th>min</th>\n",
       "      <td>13.00</td>\n",
       "      <td>8,468.00</td>\n",
       "      <td>50.00</td>\n",
       "    </tr>\n",
       "    <tr>\n",
       "      <th>25%</th>\n",
       "      <td>500.00</td>\n",
       "      <td>109,693.00</td>\n",
       "      <td>2,581.50</td>\n",
       "    </tr>\n",
       "    <tr>\n",
       "      <th>50%</th>\n",
       "      <td>635.00</td>\n",
       "      <td>155,781.00</td>\n",
       "      <td>3,286.00</td>\n",
       "    </tr>\n",
       "    <tr>\n",
       "      <th>75%</th>\n",
       "      <td>817.25</td>\n",
       "      <td>263,078.75</td>\n",
       "      <td>4,657.25</td>\n",
       "    </tr>\n",
       "    <tr>\n",
       "      <th>max</th>\n",
       "      <td>5,789.00</td>\n",
       "      <td>7,439,414.00</td>\n",
       "      <td>79,144.00</td>\n",
       "    </tr>\n",
       "  </tbody>\n",
       "</table>\n",
       "</div>"
      ],
      "text/plain": [
       "       comment_count   view_count  like_count\n",
       "count         588.00       588.00      588.00\n",
       "mean          720.52   253,392.42    4,469.08\n",
       "std           441.75   403,057.13    5,031.37\n",
       "min            13.00     8,468.00       50.00\n",
       "25%           500.00   109,693.00    2,581.50\n",
       "50%           635.00   155,781.00    3,286.00\n",
       "75%           817.25   263,078.75    4,657.25\n",
       "max         5,789.00 7,439,414.00   79,144.00"
      ]
     },
     "execution_count": 5,
     "metadata": {},
     "output_type": "execute_result"
    }
   ],
   "source": [
    "df_jarujaru_tower.describe()"
   ]
  }
 ],
 "metadata": {
  "kernelspec": {
   "display_name": "Python 3 (ipykernel)",
   "language": "python",
   "name": "python3"
  },
  "language_info": {
   "codemirror_mode": {
    "name": "ipython",
    "version": 3
   },
   "file_extension": ".py",
   "mimetype": "text/x-python",
   "name": "python",
   "nbconvert_exporter": "python",
   "pygments_lexer": "ipython3",
   "version": "3.9.9"
  }
 },
 "nbformat": 4,
 "nbformat_minor": 5
}
