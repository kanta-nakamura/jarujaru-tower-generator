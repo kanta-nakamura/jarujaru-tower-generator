{
 "cells": [
  {
   "cell_type": "markdown",
   "id": "aa0b6884-8dff-41f9-a941-d7c6de268d2c",
   "metadata": {},
   "source": [
    "## 基礎集計\n",
    "\n",
    "### このnotebookの目的\n",
    "ジャルジャルタワーの動画タイトルを集計し、今後の分析方針を立てる。"
   ]
  },
  {
   "cell_type": "code",
   "execution_count": 1,
   "id": "c3250935-df05-4896-97e4-9e67fbafd0e0",
   "metadata": {},
   "outputs": [],
   "source": [
    "# library\n",
    "import pandas as pd"
   ]
  },
  {
   "cell_type": "code",
   "execution_count": 2,
   "id": "20e9d5f1-11a2-4832-a458-22e39e3f1702",
   "metadata": {},
   "outputs": [],
   "source": [
    "# option\n",
    "pd.options.display.float_format = '{:,.2f}'.format"
   ]
  },
  {
   "cell_type": "code",
   "execution_count": 3,
   "id": "d03bfd4a-e50f-4875-bc99-84adfff6e682",
   "metadata": {
    "tags": []
   },
   "outputs": [],
   "source": [
    "# data path\n",
    "jarujaru_tower_path = '../data/raw/jarujaru_tower.csv'"
   ]
  },
  {
   "cell_type": "code",
   "execution_count": 4,
   "id": "b88ff7c6-2999-4376-8b61-88daaba0b4ca",
   "metadata": {},
   "outputs": [
    {
     "data": {
      "text/html": [
       "<div>\n",
       "<style scoped>\n",
       "    .dataframe tbody tr th:only-of-type {\n",
       "        vertical-align: middle;\n",
       "    }\n",
       "\n",
       "    .dataframe tbody tr th {\n",
       "        vertical-align: top;\n",
       "    }\n",
       "\n",
       "    .dataframe thead th {\n",
       "        text-align: right;\n",
       "    }\n",
       "</style>\n",
       "<table border=\"1\" class=\"dataframe\">\n",
       "  <thead>\n",
       "    <tr style=\"text-align: right;\">\n",
       "      <th></th>\n",
       "      <th>comment_count</th>\n",
       "      <th>view_count</th>\n",
       "      <th>like_count</th>\n",
       "    </tr>\n",
       "  </thead>\n",
       "  <tbody>\n",
       "    <tr>\n",
       "      <th>count</th>\n",
       "      <td>589.00</td>\n",
       "      <td>589.00</td>\n",
       "      <td>589.00</td>\n",
       "    </tr>\n",
       "    <tr>\n",
       "      <th>mean</th>\n",
       "      <td>719.32</td>\n",
       "      <td>252,976.59</td>\n",
       "      <td>4,461.58</td>\n",
       "    </tr>\n",
       "    <tr>\n",
       "      <th>std</th>\n",
       "      <td>442.34</td>\n",
       "      <td>402,840.68</td>\n",
       "      <td>5,030.39</td>\n",
       "    </tr>\n",
       "    <tr>\n",
       "      <th>min</th>\n",
       "      <td>13.00</td>\n",
       "      <td>8,468.00</td>\n",
       "      <td>50.00</td>\n",
       "    </tr>\n",
       "    <tr>\n",
       "      <th>25%</th>\n",
       "      <td>500.00</td>\n",
       "      <td>109,399.00</td>\n",
       "      <td>2,571.00</td>\n",
       "    </tr>\n",
       "    <tr>\n",
       "      <th>50%</th>\n",
       "      <td>635.00</td>\n",
       "      <td>155,506.00</td>\n",
       "      <td>3,285.00</td>\n",
       "    </tr>\n",
       "    <tr>\n",
       "      <th>75%</th>\n",
       "      <td>817.00</td>\n",
       "      <td>262,927.00</td>\n",
       "      <td>4,654.00</td>\n",
       "    </tr>\n",
       "    <tr>\n",
       "      <th>max</th>\n",
       "      <td>5,789.00</td>\n",
       "      <td>7,439,414.00</td>\n",
       "      <td>79,144.00</td>\n",
       "    </tr>\n",
       "  </tbody>\n",
       "</table>\n",
       "</div>"
      ],
      "text/plain": [
       "       comment_count   view_count  like_count\n",
       "count         589.00       589.00      589.00\n",
       "mean          719.32   252,976.59    4,461.58\n",
       "std           442.34   402,840.68    5,030.39\n",
       "min            13.00     8,468.00       50.00\n",
       "25%           500.00   109,399.00    2,571.00\n",
       "50%           635.00   155,506.00    3,285.00\n",
       "75%           817.00   262,927.00    4,654.00\n",
       "max         5,789.00 7,439,414.00   79,144.00"
      ]
     },
     "execution_count": 4,
     "metadata": {},
     "output_type": "execute_result"
    }
   ],
   "source": [
    "df_jarujaru_tower = pd.read_csv(jarujaru_tower_path)\n",
    "df_jarujaru_tower.describe()"
   ]
  }
 ],
 "metadata": {
  "kernelspec": {
   "display_name": "Python 3 (ipykernel)",
   "language": "python",
   "name": "python3"
  },
  "language_info": {
   "codemirror_mode": {
    "name": "ipython",
    "version": 3
   },
   "file_extension": ".py",
   "mimetype": "text/x-python",
   "name": "python",
   "nbconvert_exporter": "python",
   "pygments_lexer": "ipython3",
   "version": "3.9.9"
  }
 },
 "nbformat": 4,
 "nbformat_minor": 5
}
