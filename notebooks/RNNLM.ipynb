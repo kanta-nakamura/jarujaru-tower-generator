{
 "cells": [
  {
   "cell_type": "code",
   "execution_count": 1,
   "id": "8276f52c-85eb-4484-984a-e7d1fe180f1c",
   "metadata": {},
   "outputs": [],
   "source": [
    "import sys\n",
    "sys.path.append('..')\n",
    "import numpy as np\n",
    "from src.models.layers import *"
   ]
  },
  {
   "cell_type": "code",
   "execution_count": null,
   "id": "203a9ac1-2040-4b13-93ff-90d009efb7cb",
   "metadata": {},
   "outputs": [],
   "source": []
  }
 ],
 "metadata": {
  "kernelspec": {
   "display_name": "Python 3 (ipykernel)",
   "language": "python",
   "name": "python3"
  },
  "language_info": {
   "codemirror_mode": {
    "name": "ipython",
    "version": 3
   },
   "file_extension": ".py",
   "mimetype": "text/x-python",
   "name": "python",
   "nbconvert_exporter": "python",
   "pygments_lexer": "ipython3",
   "version": "3.9.9"
  }
 },
 "nbformat": 4,
 "nbformat_minor": 5
}
